{
 "cells": [
  {
   "cell_type": "markdown",
   "id": "a244995a",
   "metadata": {},
   "source": [
    "# RFM Analysis"
   ]
  },
  {
   "cell_type": "markdown",
   "id": "bde31180",
   "metadata": {},
   "source": [
    "RFM analysis is a powerful technique used by companies to better understand customer behaviour and optimize engagement strategies. It revolves around three key dimensions: recency, frequency, and monetary value. These dimensions capture essential aspects of customer transactions, providing valuable information for segmentation and personalized marketing campaigns."
   ]
  },
  {
   "cell_type": "code",
   "execution_count": 2,
   "id": "7bbc9e4b",
   "metadata": {},
   "outputs": [],
   "source": [
    "import pandas as pd\n",
    "import plotly.express as px\n",
    "import plotly.io as pio\n",
    "import plotly.graph_objects as go\n",
    "pio.templates.default = \"plotly_white\"\n"
   ]
  },
  {
   "cell_type": "code",
   "execution_count": 3,
   "id": "5e986330",
   "metadata": {},
   "outputs": [
    {
     "data": {
      "text/html": [
       "<div>\n",
       "<style scoped>\n",
       "    .dataframe tbody tr th:only-of-type {\n",
       "        vertical-align: middle;\n",
       "    }\n",
       "\n",
       "    .dataframe tbody tr th {\n",
       "        vertical-align: top;\n",
       "    }\n",
       "\n",
       "    .dataframe thead th {\n",
       "        text-align: right;\n",
       "    }\n",
       "</style>\n",
       "<table border=\"1\" class=\"dataframe\">\n",
       "  <thead>\n",
       "    <tr style=\"text-align: right;\">\n",
       "      <th></th>\n",
       "      <th>CustomerID</th>\n",
       "      <th>PurchaseDate</th>\n",
       "      <th>TransactionAmount</th>\n",
       "      <th>ProductInformation</th>\n",
       "      <th>OrderID</th>\n",
       "      <th>Location</th>\n",
       "    </tr>\n",
       "  </thead>\n",
       "  <tbody>\n",
       "    <tr>\n",
       "      <th>0</th>\n",
       "      <td>8814</td>\n",
       "      <td>2023-04-11</td>\n",
       "      <td>943.31</td>\n",
       "      <td>Product C</td>\n",
       "      <td>890075</td>\n",
       "      <td>Tokyo</td>\n",
       "    </tr>\n",
       "    <tr>\n",
       "      <th>1</th>\n",
       "      <td>2188</td>\n",
       "      <td>2023-04-11</td>\n",
       "      <td>463.70</td>\n",
       "      <td>Product A</td>\n",
       "      <td>176819</td>\n",
       "      <td>London</td>\n",
       "    </tr>\n",
       "    <tr>\n",
       "      <th>2</th>\n",
       "      <td>4608</td>\n",
       "      <td>2023-04-11</td>\n",
       "      <td>80.28</td>\n",
       "      <td>Product A</td>\n",
       "      <td>340062</td>\n",
       "      <td>New York</td>\n",
       "    </tr>\n",
       "    <tr>\n",
       "      <th>3</th>\n",
       "      <td>2559</td>\n",
       "      <td>2023-04-11</td>\n",
       "      <td>221.29</td>\n",
       "      <td>Product A</td>\n",
       "      <td>239145</td>\n",
       "      <td>London</td>\n",
       "    </tr>\n",
       "    <tr>\n",
       "      <th>4</th>\n",
       "      <td>9482</td>\n",
       "      <td>2023-04-11</td>\n",
       "      <td>739.56</td>\n",
       "      <td>Product A</td>\n",
       "      <td>194545</td>\n",
       "      <td>Paris</td>\n",
       "    </tr>\n",
       "    <tr>\n",
       "      <th>...</th>\n",
       "      <td>...</td>\n",
       "      <td>...</td>\n",
       "      <td>...</td>\n",
       "      <td>...</td>\n",
       "      <td>...</td>\n",
       "      <td>...</td>\n",
       "    </tr>\n",
       "    <tr>\n",
       "      <th>995</th>\n",
       "      <td>2970</td>\n",
       "      <td>2023-06-10</td>\n",
       "      <td>759.62</td>\n",
       "      <td>Product B</td>\n",
       "      <td>275284</td>\n",
       "      <td>London</td>\n",
       "    </tr>\n",
       "    <tr>\n",
       "      <th>996</th>\n",
       "      <td>6669</td>\n",
       "      <td>2023-06-10</td>\n",
       "      <td>941.50</td>\n",
       "      <td>Product C</td>\n",
       "      <td>987025</td>\n",
       "      <td>New York</td>\n",
       "    </tr>\n",
       "    <tr>\n",
       "      <th>997</th>\n",
       "      <td>8836</td>\n",
       "      <td>2023-06-10</td>\n",
       "      <td>545.36</td>\n",
       "      <td>Product C</td>\n",
       "      <td>512842</td>\n",
       "      <td>London</td>\n",
       "    </tr>\n",
       "    <tr>\n",
       "      <th>998</th>\n",
       "      <td>1440</td>\n",
       "      <td>2023-06-10</td>\n",
       "      <td>729.94</td>\n",
       "      <td>Product B</td>\n",
       "      <td>559753</td>\n",
       "      <td>Paris</td>\n",
       "    </tr>\n",
       "    <tr>\n",
       "      <th>999</th>\n",
       "      <td>4759</td>\n",
       "      <td>2023-06-10</td>\n",
       "      <td>804.28</td>\n",
       "      <td>Product D</td>\n",
       "      <td>467544</td>\n",
       "      <td>New York</td>\n",
       "    </tr>\n",
       "  </tbody>\n",
       "</table>\n",
       "<p>1000 rows × 6 columns</p>\n",
       "</div>"
      ],
      "text/plain": [
       "     CustomerID PurchaseDate  TransactionAmount ProductInformation  OrderID  \\\n",
       "0          8814   2023-04-11             943.31          Product C   890075   \n",
       "1          2188   2023-04-11             463.70          Product A   176819   \n",
       "2          4608   2023-04-11              80.28          Product A   340062   \n",
       "3          2559   2023-04-11             221.29          Product A   239145   \n",
       "4          9482   2023-04-11             739.56          Product A   194545   \n",
       "..          ...          ...                ...                ...      ...   \n",
       "995        2970   2023-06-10             759.62          Product B   275284   \n",
       "996        6669   2023-06-10             941.50          Product C   987025   \n",
       "997        8836   2023-06-10             545.36          Product C   512842   \n",
       "998        1440   2023-06-10             729.94          Product B   559753   \n",
       "999        4759   2023-06-10             804.28          Product D   467544   \n",
       "\n",
       "     Location  \n",
       "0       Tokyo  \n",
       "1      London  \n",
       "2    New York  \n",
       "3      London  \n",
       "4       Paris  \n",
       "..        ...  \n",
       "995    London  \n",
       "996  New York  \n",
       "997    London  \n",
       "998     Paris  \n",
       "999  New York  \n",
       "\n",
       "[1000 rows x 6 columns]"
      ]
     },
     "execution_count": 3,
     "metadata": {},
     "output_type": "execute_result"
    }
   ],
   "source": [
    "rfm=pd.read_csv(r'C:\\Users\\femif\\Downloads\\rfm_data.csv')\n",
    "rfm"
   ]
  },
  {
   "cell_type": "code",
   "execution_count": 4,
   "id": "a1798ff4",
   "metadata": {},
   "outputs": [
    {
     "data": {
      "text/html": [
       "<div>\n",
       "<style scoped>\n",
       "    .dataframe tbody tr th:only-of-type {\n",
       "        vertical-align: middle;\n",
       "    }\n",
       "\n",
       "    .dataframe tbody tr th {\n",
       "        vertical-align: top;\n",
       "    }\n",
       "\n",
       "    .dataframe thead th {\n",
       "        text-align: right;\n",
       "    }\n",
       "</style>\n",
       "<table border=\"1\" class=\"dataframe\">\n",
       "  <thead>\n",
       "    <tr style=\"text-align: right;\">\n",
       "      <th></th>\n",
       "      <th>CustomerID</th>\n",
       "      <th>PurchaseDate</th>\n",
       "      <th>TransactionAmount</th>\n",
       "      <th>ProductInformation</th>\n",
       "      <th>OrderID</th>\n",
       "      <th>Location</th>\n",
       "    </tr>\n",
       "  </thead>\n",
       "  <tbody>\n",
       "    <tr>\n",
       "      <th>0</th>\n",
       "      <td>8814</td>\n",
       "      <td>2023-04-11</td>\n",
       "      <td>943.31</td>\n",
       "      <td>Product C</td>\n",
       "      <td>890075</td>\n",
       "      <td>Tokyo</td>\n",
       "    </tr>\n",
       "    <tr>\n",
       "      <th>1</th>\n",
       "      <td>2188</td>\n",
       "      <td>2023-04-11</td>\n",
       "      <td>463.70</td>\n",
       "      <td>Product A</td>\n",
       "      <td>176819</td>\n",
       "      <td>London</td>\n",
       "    </tr>\n",
       "    <tr>\n",
       "      <th>2</th>\n",
       "      <td>4608</td>\n",
       "      <td>2023-04-11</td>\n",
       "      <td>80.28</td>\n",
       "      <td>Product A</td>\n",
       "      <td>340062</td>\n",
       "      <td>New York</td>\n",
       "    </tr>\n",
       "    <tr>\n",
       "      <th>3</th>\n",
       "      <td>2559</td>\n",
       "      <td>2023-04-11</td>\n",
       "      <td>221.29</td>\n",
       "      <td>Product A</td>\n",
       "      <td>239145</td>\n",
       "      <td>London</td>\n",
       "    </tr>\n",
       "    <tr>\n",
       "      <th>4</th>\n",
       "      <td>9482</td>\n",
       "      <td>2023-04-11</td>\n",
       "      <td>739.56</td>\n",
       "      <td>Product A</td>\n",
       "      <td>194545</td>\n",
       "      <td>Paris</td>\n",
       "    </tr>\n",
       "  </tbody>\n",
       "</table>\n",
       "</div>"
      ],
      "text/plain": [
       "   CustomerID PurchaseDate  TransactionAmount ProductInformation  OrderID  \\\n",
       "0        8814   2023-04-11             943.31          Product C   890075   \n",
       "1        2188   2023-04-11             463.70          Product A   176819   \n",
       "2        4608   2023-04-11              80.28          Product A   340062   \n",
       "3        2559   2023-04-11             221.29          Product A   239145   \n",
       "4        9482   2023-04-11             739.56          Product A   194545   \n",
       "\n",
       "   Location  \n",
       "0     Tokyo  \n",
       "1    London  \n",
       "2  New York  \n",
       "3    London  \n",
       "4     Paris  "
      ]
     },
     "execution_count": 4,
     "metadata": {},
     "output_type": "execute_result"
    }
   ],
   "source": [
    "#Display firts few rows of the data\n",
    "rfm.head()"
   ]
  },
  {
   "cell_type": "code",
   "execution_count": 5,
   "id": "44e6de76",
   "metadata": {},
   "outputs": [
    {
     "name": "stdout",
     "output_type": "stream",
     "text": [
      "<class 'pandas.core.frame.DataFrame'>\n",
      "RangeIndex: 1000 entries, 0 to 999\n",
      "Data columns (total 6 columns):\n",
      " #   Column              Non-Null Count  Dtype  \n",
      "---  ------              --------------  -----  \n",
      " 0   CustomerID          1000 non-null   int64  \n",
      " 1   PurchaseDate        1000 non-null   object \n",
      " 2   TransactionAmount   1000 non-null   float64\n",
      " 3   ProductInformation  1000 non-null   object \n",
      " 4   OrderID             1000 non-null   int64  \n",
      " 5   Location            1000 non-null   object \n",
      "dtypes: float64(1), int64(2), object(3)\n",
      "memory usage: 47.0+ KB\n"
     ]
    }
   ],
   "source": [
    "#information about the data\n",
    "rfm.info()"
   ]
  },
  {
   "cell_type": "code",
   "execution_count": 6,
   "id": "279a4aa9",
   "metadata": {},
   "outputs": [
    {
     "data": {
      "text/plain": [
       "CustomerID            0\n",
       "PurchaseDate          0\n",
       "TransactionAmount     0\n",
       "ProductInformation    0\n",
       "OrderID               0\n",
       "Location              0\n",
       "dtype: int64"
      ]
     },
     "execution_count": 6,
     "metadata": {},
     "output_type": "execute_result"
    }
   ],
   "source": [
    "#check the null values\n",
    "rfm.isnull().sum ()"
   ]
  },
  {
   "cell_type": "code",
   "execution_count": 7,
   "id": "bd134ffb",
   "metadata": {},
   "outputs": [
    {
     "data": {
      "text/html": [
       "<div>\n",
       "<style scoped>\n",
       "    .dataframe tbody tr th:only-of-type {\n",
       "        vertical-align: middle;\n",
       "    }\n",
       "\n",
       "    .dataframe tbody tr th {\n",
       "        vertical-align: top;\n",
       "    }\n",
       "\n",
       "    .dataframe thead th {\n",
       "        text-align: right;\n",
       "    }\n",
       "</style>\n",
       "<table border=\"1\" class=\"dataframe\">\n",
       "  <thead>\n",
       "    <tr style=\"text-align: right;\">\n",
       "      <th></th>\n",
       "      <th>CustomerID</th>\n",
       "      <th>TransactionAmount</th>\n",
       "      <th>OrderID</th>\n",
       "    </tr>\n",
       "  </thead>\n",
       "  <tbody>\n",
       "    <tr>\n",
       "      <th>count</th>\n",
       "      <td>1000.000000</td>\n",
       "      <td>1000.00000</td>\n",
       "      <td>1000.000000</td>\n",
       "    </tr>\n",
       "    <tr>\n",
       "      <th>mean</th>\n",
       "      <td>5554.789000</td>\n",
       "      <td>513.67781</td>\n",
       "      <td>554071.398000</td>\n",
       "    </tr>\n",
       "    <tr>\n",
       "      <th>std</th>\n",
       "      <td>2605.014863</td>\n",
       "      <td>286.09870</td>\n",
       "      <td>264695.448814</td>\n",
       "    </tr>\n",
       "    <tr>\n",
       "      <th>min</th>\n",
       "      <td>1011.000000</td>\n",
       "      <td>12.13000</td>\n",
       "      <td>100096.000000</td>\n",
       "    </tr>\n",
       "    <tr>\n",
       "      <th>25%</th>\n",
       "      <td>3273.000000</td>\n",
       "      <td>257.12000</td>\n",
       "      <td>313152.000000</td>\n",
       "    </tr>\n",
       "    <tr>\n",
       "      <th>50%</th>\n",
       "      <td>5538.000000</td>\n",
       "      <td>523.56500</td>\n",
       "      <td>564671.500000</td>\n",
       "    </tr>\n",
       "    <tr>\n",
       "      <th>75%</th>\n",
       "      <td>7821.750000</td>\n",
       "      <td>759.86000</td>\n",
       "      <td>783052.250000</td>\n",
       "    </tr>\n",
       "    <tr>\n",
       "      <th>max</th>\n",
       "      <td>9991.000000</td>\n",
       "      <td>999.44000</td>\n",
       "      <td>999695.000000</td>\n",
       "    </tr>\n",
       "  </tbody>\n",
       "</table>\n",
       "</div>"
      ],
      "text/plain": [
       "        CustomerID  TransactionAmount        OrderID\n",
       "count  1000.000000         1000.00000    1000.000000\n",
       "mean   5554.789000          513.67781  554071.398000\n",
       "std    2605.014863          286.09870  264695.448814\n",
       "min    1011.000000           12.13000  100096.000000\n",
       "25%    3273.000000          257.12000  313152.000000\n",
       "50%    5538.000000          523.56500  564671.500000\n",
       "75%    7821.750000          759.86000  783052.250000\n",
       "max    9991.000000          999.44000  999695.000000"
      ]
     },
     "execution_count": 7,
     "metadata": {},
     "output_type": "execute_result"
    }
   ],
   "source": [
    "#descriptive statistics\n",
    "rfm.describe()"
   ]
  },
  {
   "cell_type": "code",
   "execution_count": 10,
   "id": "428cce42",
   "metadata": {},
   "outputs": [
    {
     "data": {
      "text/plain": [
       "(1000, 6)"
      ]
     },
     "execution_count": 10,
     "metadata": {},
     "output_type": "execute_result"
    }
   ],
   "source": [
    "#display the rows and columns of the data\n",
    "rfm.shape"
   ]
  },
  {
   "cell_type": "markdown",
   "id": "54d9c9b7",
   "metadata": {},
   "source": [
    "### calculating RFM values"
   ]
  },
  {
   "cell_type": "code",
   "execution_count": 14,
   "id": "0630bcbf",
   "metadata": {},
   "outputs": [
    {
     "name": "stdout",
     "output_type": "stream",
     "text": [
      "   CustomerID                  Recency  Frequency  Monetary\n",
      "0        8814 339 days 18:08:04.439306          1    943.31\n",
      "1        2188 339 days 18:08:04.439306          1    463.70\n",
      "2        4608 339 days 18:08:04.439306          1     80.28\n",
      "3        2559 339 days 18:08:04.439306          1    221.29\n",
      "4        9482 339 days 18:08:04.439306          1    739.56\n"
     ]
    }
   ],
   "source": [
    "rfm['PurchaseDate'] = pd.to_datetime(rfm['PurchaseDate'])\n",
    "\n",
    "# Calculate Recency, Frequency, and Monetary values\n",
    "current_date = pd.to_datetime('today')  # You can use the current date or the latest date in your dataset\n",
    "rfm['Recency'] = current_date - rfm.groupby('CustomerID')['PurchaseDate'].transform('max')\n",
    "rfm['Frequency'] = rfm.groupby('CustomerID')['PurchaseDate'].transform('count')\n",
    "rfm['Monetary'] = rfm.groupby('CustomerID')['TransactionAmount'].transform('sum')\n",
    "\n",
    "# Drop duplicate rows to keep only unique CustomerID values\n",
    "rfm = rfm.drop_duplicates(subset=['CustomerID'])\n",
    "\n",
    "# Display the RFM values\n",
    "print(rfm[['CustomerID', 'Recency', 'Frequency', 'Monetary']].head())"
   ]
  },
  {
   "cell_type": "markdown",
   "id": "4936c9e8",
   "metadata": {},
   "source": [
    "Recency: Calculate how recently each customer made a purchase. This is usually measured as the difference between the current date and the date of the customer's most recent purchase.\n",
    "\n",
    "Frequency: Calculate how often each customer makes purchases. This is typically measured as the total number of purchases made by the customer over a specific period.\n",
    "\n",
    "Monetary: Calculate the total amount of money spent by each customer. This is usually measured as the sum of the purchase amounts made by the customer over a specific period."
   ]
  },
  {
   "cell_type": "code",
   "execution_count": 15,
   "id": "725d7e8e",
   "metadata": {},
   "outputs": [
    {
     "data": {
      "text/html": [
       "<div>\n",
       "<style scoped>\n",
       "    .dataframe tbody tr th:only-of-type {\n",
       "        vertical-align: middle;\n",
       "    }\n",
       "\n",
       "    .dataframe tbody tr th {\n",
       "        vertical-align: top;\n",
       "    }\n",
       "\n",
       "    .dataframe thead th {\n",
       "        text-align: right;\n",
       "    }\n",
       "</style>\n",
       "<table border=\"1\" class=\"dataframe\">\n",
       "  <thead>\n",
       "    <tr style=\"text-align: right;\">\n",
       "      <th></th>\n",
       "      <th>CustomerID</th>\n",
       "      <th>PurchaseDate</th>\n",
       "      <th>TransactionAmount</th>\n",
       "      <th>ProductInformation</th>\n",
       "      <th>OrderID</th>\n",
       "      <th>Location</th>\n",
       "      <th>Recency</th>\n",
       "      <th>Frequency</th>\n",
       "      <th>Monetary</th>\n",
       "    </tr>\n",
       "  </thead>\n",
       "  <tbody>\n",
       "    <tr>\n",
       "      <th>0</th>\n",
       "      <td>8814</td>\n",
       "      <td>2023-04-11</td>\n",
       "      <td>943.31</td>\n",
       "      <td>Product C</td>\n",
       "      <td>890075</td>\n",
       "      <td>Tokyo</td>\n",
       "      <td>339 days 18:08:04.439306</td>\n",
       "      <td>1</td>\n",
       "      <td>943.31</td>\n",
       "    </tr>\n",
       "    <tr>\n",
       "      <th>1</th>\n",
       "      <td>2188</td>\n",
       "      <td>2023-04-11</td>\n",
       "      <td>463.70</td>\n",
       "      <td>Product A</td>\n",
       "      <td>176819</td>\n",
       "      <td>London</td>\n",
       "      <td>339 days 18:08:04.439306</td>\n",
       "      <td>1</td>\n",
       "      <td>463.70</td>\n",
       "    </tr>\n",
       "    <tr>\n",
       "      <th>2</th>\n",
       "      <td>4608</td>\n",
       "      <td>2023-04-11</td>\n",
       "      <td>80.28</td>\n",
       "      <td>Product A</td>\n",
       "      <td>340062</td>\n",
       "      <td>New York</td>\n",
       "      <td>339 days 18:08:04.439306</td>\n",
       "      <td>1</td>\n",
       "      <td>80.28</td>\n",
       "    </tr>\n",
       "    <tr>\n",
       "      <th>3</th>\n",
       "      <td>2559</td>\n",
       "      <td>2023-04-11</td>\n",
       "      <td>221.29</td>\n",
       "      <td>Product A</td>\n",
       "      <td>239145</td>\n",
       "      <td>London</td>\n",
       "      <td>339 days 18:08:04.439306</td>\n",
       "      <td>1</td>\n",
       "      <td>221.29</td>\n",
       "    </tr>\n",
       "    <tr>\n",
       "      <th>4</th>\n",
       "      <td>9482</td>\n",
       "      <td>2023-04-11</td>\n",
       "      <td>739.56</td>\n",
       "      <td>Product A</td>\n",
       "      <td>194545</td>\n",
       "      <td>Paris</td>\n",
       "      <td>339 days 18:08:04.439306</td>\n",
       "      <td>1</td>\n",
       "      <td>739.56</td>\n",
       "    </tr>\n",
       "  </tbody>\n",
       "</table>\n",
       "</div>"
      ],
      "text/plain": [
       "   CustomerID PurchaseDate  TransactionAmount ProductInformation  OrderID  \\\n",
       "0        8814   2023-04-11             943.31          Product C   890075   \n",
       "1        2188   2023-04-11             463.70          Product A   176819   \n",
       "2        4608   2023-04-11              80.28          Product A   340062   \n",
       "3        2559   2023-04-11             221.29          Product A   239145   \n",
       "4        9482   2023-04-11             739.56          Product A   194545   \n",
       "\n",
       "   Location                  Recency  Frequency  Monetary  \n",
       "0     Tokyo 339 days 18:08:04.439306          1    943.31  \n",
       "1    London 339 days 18:08:04.439306          1    463.70  \n",
       "2  New York 339 days 18:08:04.439306          1     80.28  \n",
       "3    London 339 days 18:08:04.439306          1    221.29  \n",
       "4     Paris 339 days 18:08:04.439306          1    739.56  "
      ]
     },
     "execution_count": 15,
     "metadata": {},
     "output_type": "execute_result"
    }
   ],
   "source": [
    "rfm.head()"
   ]
  },
  {
   "cell_type": "markdown",
   "id": "bb0ec2a1",
   "metadata": {},
   "source": [
    "Adding 3 columns Recency,Freqyency,Monitary"
   ]
  },
  {
   "cell_type": "code",
   "execution_count": 16,
   "id": "aa74da04",
   "metadata": {},
   "outputs": [
    {
     "data": {
      "text/plain": [
       "2379.45"
      ]
     },
     "execution_count": 16,
     "metadata": {},
     "output_type": "execute_result"
    }
   ],
   "source": [
    "rfm['Monetary'].max()"
   ]
  },
  {
   "cell_type": "code",
   "execution_count": 18,
   "id": "f58b60e8",
   "metadata": {},
   "outputs": [
    {
     "name": "stdout",
     "output_type": "stream",
     "text": [
      "Maximum Monetary Value: 2379.45\n",
      "Corresponding Date: 2023-04-14 00:00:00\n"
     ]
    }
   ],
   "source": [
    "max_monetary_index = rfm['Monetary'].idxmax()\n",
    "\n",
    "\n",
    "max_monetary_value = rfm.loc[max_monetary_index, 'Monetary']\n",
    "max_monetary_date = rfm.loc[max_monetary_index, 'PurchaseDate']\n",
    "\n",
    "print(\"Maximum Monetary Value:\", max_monetary_value)\n",
    "print(\"Corresponding Date:\", max_monetary_date)\n"
   ]
  },
  {
   "cell_type": "code",
   "execution_count": 20,
   "id": "fe266b7e",
   "metadata": {},
   "outputs": [
    {
     "name": "stdout",
     "output_type": "stream",
     "text": [
      "Minimum Monetary Value: 12.13\n",
      "Corresponding Date: 2023-05-05 00:00:00\n"
     ]
    }
   ],
   "source": [
    "min_monetary_index = rfm['Monetary'].idxmin()\n",
    "\n",
    "\n",
    "min_monetary_value = rfm.loc[min_monetary_index, 'Monetary']\n",
    "min_monetary_date = rfm.loc[min_monetary_index, 'PurchaseDate']\n",
    "\n",
    "print(\"Minimum Monetary Value:\", min_monetary_value)\n",
    "print(\"Corresponding Date:\", min_monetary_date)\n"
   ]
  },
  {
   "cell_type": "markdown",
   "id": "a88373a2",
   "metadata": {},
   "source": [
    "#### Calculate quintiles for Recency, Frequency, and Monetary values"
   ]
  },
  {
   "cell_type": "code",
   "execution_count": 21,
   "id": "e5f363aa",
   "metadata": {},
   "outputs": [
    {
     "name": "stdout",
     "output_type": "stream",
     "text": [
      "   CustomerID  RecencyScore  FrequencyScore  MonetaryScore  RFM_Score\n",
      "0        8814             4               0              4          8\n",
      "1        2188             4               0              2          6\n",
      "2        4608             4               0              0          4\n",
      "3        2559             4               0              1          5\n",
      "4        9482             4               0              3          7\n"
     ]
    },
    {
     "name": "stderr",
     "output_type": "stream",
     "text": [
      "C:\\Users\\femif\\AppData\\Local\\Temp\\ipykernel_1296\\3902413194.py:1: SettingWithCopyWarning: \n",
      "A value is trying to be set on a copy of a slice from a DataFrame.\n",
      "Try using .loc[row_indexer,col_indexer] = value instead\n",
      "\n",
      "See the caveats in the documentation: https://pandas.pydata.org/pandas-docs/stable/user_guide/indexing.html#returning-a-view-versus-a-copy\n",
      "  rfm['RecencyScore'] = pd.qcut(rfm['Recency'].rank(method='first'), q=5, labels=False, duplicates='drop')\n",
      "C:\\Users\\femif\\AppData\\Local\\Temp\\ipykernel_1296\\3902413194.py:2: SettingWithCopyWarning: \n",
      "A value is trying to be set on a copy of a slice from a DataFrame.\n",
      "Try using .loc[row_indexer,col_indexer] = value instead\n",
      "\n",
      "See the caveats in the documentation: https://pandas.pydata.org/pandas-docs/stable/user_guide/indexing.html#returning-a-view-versus-a-copy\n",
      "  rfm['FrequencyScore'] = pd.qcut(rfm['Frequency'], q=5, labels=False, duplicates='drop')\n",
      "C:\\Users\\femif\\AppData\\Local\\Temp\\ipykernel_1296\\3902413194.py:3: SettingWithCopyWarning: \n",
      "A value is trying to be set on a copy of a slice from a DataFrame.\n",
      "Try using .loc[row_indexer,col_indexer] = value instead\n",
      "\n",
      "See the caveats in the documentation: https://pandas.pydata.org/pandas-docs/stable/user_guide/indexing.html#returning-a-view-versus-a-copy\n",
      "  rfm['MonetaryScore'] = pd.qcut(rfm['Monetary'], q=5, labels=False, duplicates='drop')\n",
      "C:\\Users\\femif\\AppData\\Local\\Temp\\ipykernel_1296\\3902413194.py:6: SettingWithCopyWarning: \n",
      "A value is trying to be set on a copy of a slice from a DataFrame.\n",
      "Try using .loc[row_indexer,col_indexer] = value instead\n",
      "\n",
      "See the caveats in the documentation: https://pandas.pydata.org/pandas-docs/stable/user_guide/indexing.html#returning-a-view-versus-a-copy\n",
      "  rfm['RFM_Score'] = rfm['RecencyScore'] + rfm['FrequencyScore'] + rfm['MonetaryScore']\n"
     ]
    }
   ],
   "source": [
    " \n",
    " \n",
    "rfm['RecencyScore'] = pd.qcut(rfm['Recency'].rank(method='first'), q=5, labels=False, duplicates='drop')\n",
    "rfm['FrequencyScore'] = pd.qcut(rfm['Frequency'], q=5, labels=False, duplicates='drop')\n",
    "rfm['MonetaryScore'] = pd.qcut(rfm['Monetary'], q=5, labels=False, duplicates='drop')\n",
    "\n",
    "# Calculate RFM score\n",
    "rfm['RFM_Score'] = rfm['RecencyScore'] + rfm['FrequencyScore'] + rfm['MonetaryScore']\n",
    "\n",
    "# Display the RFM scores\n",
    "print(rfm[['CustomerID', 'RecencyScore', 'FrequencyScore', 'MonetaryScore', 'RFM_Score']].head())"
   ]
  },
  {
   "cell_type": "code",
   "execution_count": 23,
   "id": "bfbb1365",
   "metadata": {},
   "outputs": [
    {
     "data": {
      "image/png": "[encoded data removed]",
      "text/plain": [
       "<Figure size 640x480 with 1 Axes>"
      ]
     },
     "metadata": {},
     "output_type": "display_data"
    }
   ],
   "source": [
    "import matplotlib.pyplot as plt\n",
    "\n",
    "\n",
    "\n",
    "# Plot histogram of RFM scores distribution\n",
    "plt.hist(rfm['RFM_Score'], bins=5, color='skyblue', edgecolor='black')\n",
    "\n",
    "# Add labels and title\n",
    "plt.xlabel('RFM Score')\n",
    "plt.ylabel('Frequency')\n",
    "plt.title('RFM Score Distribution')\n",
    "\n",
    "# Show the plot\n",
    "plt.show()"
   ]
  },
  {
   "cell_type": "markdown",
   "id": "a908a772",
   "metadata": {},
   "source": [
    "highest RFM score is 8"
   ]
  },
  {
   "cell_type": "code",
   "execution_count": 25,
   "id": "1572c82f",
   "metadata": {},
   "outputs": [
    {
     "name": "stderr",
     "output_type": "stream",
     "text": [
      "C:\\Users\\femif\\AppData\\Local\\Temp\\ipykernel_1296\\1442614058.py:2: SettingWithCopyWarning: \n",
      "A value is trying to be set on a copy of a slice from a DataFrame.\n",
      "Try using .loc[row_indexer,col_indexer] = value instead\n",
      "\n",
      "See the caveats in the documentation: https://pandas.pydata.org/pandas-docs/stable/user_guide/indexing.html#returning-a-view-versus-a-copy\n",
      "  rfm['RecencyScore'] = rfm['RecencyScore'].astype(int)\n",
      "C:\\Users\\femif\\AppData\\Local\\Temp\\ipykernel_1296\\1442614058.py:3: SettingWithCopyWarning: \n",
      "A value is trying to be set on a copy of a slice from a DataFrame.\n",
      "Try using .loc[row_indexer,col_indexer] = value instead\n",
      "\n",
      "See the caveats in the documentation: https://pandas.pydata.org/pandas-docs/stable/user_guide/indexing.html#returning-a-view-versus-a-copy\n",
      "  rfm['FrequencyScore'] = rfm['FrequencyScore'].astype(int)\n",
      "C:\\Users\\femif\\AppData\\Local\\Temp\\ipykernel_1296\\1442614058.py:4: SettingWithCopyWarning: \n",
      "A value is trying to be set on a copy of a slice from a DataFrame.\n",
      "Try using .loc[row_indexer,col_indexer] = value instead\n",
      "\n",
      "See the caveats in the documentation: https://pandas.pydata.org/pandas-docs/stable/user_guide/indexing.html#returning-a-view-versus-a-copy\n",
      "  rfm['MonetaryScore'] = rfm['MonetaryScore'].astype(int)\n"
     ]
    }
   ],
   "source": [
    "# Convert RFM scores to numeric type\n",
    "rfm['RecencyScore'] = rfm['RecencyScore'].astype(int)\n",
    "rfm['FrequencyScore'] = rfm['FrequencyScore'].astype(int)\n",
    "rfm['MonetaryScore'] = rfm['MonetaryScore'].astype(int)"
   ]
  },
  {
   "cell_type": "code",
   "execution_count": 26,
   "id": "90acf4b6",
   "metadata": {},
   "outputs": [
    {
     "name": "stderr",
     "output_type": "stream",
     "text": [
      "C:\\Users\\femif\\AppData\\Local\\Temp\\ipykernel_1296\\3113078532.py:1: SettingWithCopyWarning: \n",
      "A value is trying to be set on a copy of a slice from a DataFrame.\n",
      "Try using .loc[row_indexer,col_indexer] = value instead\n",
      "\n",
      "See the caveats in the documentation: https://pandas.pydata.org/pandas-docs/stable/user_guide/indexing.html#returning-a-view-versus-a-copy\n",
      "  rfm['RecencyScore'] = rfm['RecencyScore'].astype(int)\n"
     ]
    }
   ],
   "source": [
    "rfm['RecencyScore'] = rfm['RecencyScore'].astype(int)"
   ]
  },
  {
   "cell_type": "code",
   "execution_count": 27,
   "id": "2272787d",
   "metadata": {},
   "outputs": [
    {
     "data": {
      "text/plain": [
       "0      4\n",
       "1      4\n",
       "2      4\n",
       "3      4\n",
       "4      4\n",
       "      ..\n",
       "995    0\n",
       "996    0\n",
       "997    0\n",
       "998    0\n",
       "999    0\n",
       "Name: RecencyScore, Length: 946, dtype: int32"
      ]
     },
     "execution_count": 27,
     "metadata": {},
     "output_type": "execute_result"
    }
   ],
   "source": [
    "rfm['RecencyScore']"
   ]
  },
  {
   "cell_type": "code",
   "execution_count": 33,
   "id": "eaedc855",
   "metadata": {},
   "outputs": [
    {
     "name": "stderr",
     "output_type": "stream",
     "text": [
      "C:\\Users\\femif\\AppData\\Local\\Temp\\ipykernel_1296\\250465228.py:2: SettingWithCopyWarning: \n",
      "A value is trying to be set on a copy of a slice from a DataFrame.\n",
      "Try using .loc[row_indexer,col_indexer] = value instead\n",
      "\n",
      "See the caveats in the documentation: https://pandas.pydata.org/pandas-docs/stable/user_guide/indexing.html#returning-a-view-versus-a-copy\n",
      "  rfm['RFM_Score'] = rfm['RecencyScore'] + rfm['FrequencyScore'] + rfm['MonetaryScore']\n",
      "C:\\Users\\femif\\AppData\\Local\\Temp\\ipykernel_1296\\250465228.py:6: SettingWithCopyWarning: \n",
      "A value is trying to be set on a copy of a slice from a DataFrame.\n",
      "Try using .loc[row_indexer,col_indexer] = value instead\n",
      "\n",
      "See the caveats in the documentation: https://pandas.pydata.org/pandas-docs/stable/user_guide/indexing.html#returning-a-view-versus-a-copy\n",
      "  rfm['Value Segment'] = pd.qcut(rfm['RFM_Score'], q=3, labels=segment_labels)\n"
     ]
    }
   ],
   "source": [
    "# Calculate RFM score by combining the individual scores\n",
    "rfm['RFM_Score'] = rfm['RecencyScore'] + rfm['FrequencyScore'] + rfm['MonetaryScore']\n",
    "\n",
    "# Create RFM segments based on the RFM score\n",
    "segment_labels = ['Low-Value', 'Mid-Value', 'High-Value']\n",
    "rfm['Value Segment'] = pd.qcut(rfm['RFM_Score'], q=3, labels=segment_labels)"
   ]
  },
  {
   "cell_type": "code",
   "execution_count": 34,
   "id": "22f3ad42",
   "metadata": {},
   "outputs": [
    {
     "data": {
      "text/plain": [
       "0      High-Value\n",
       "1      High-Value\n",
       "2       Mid-Value\n",
       "3       Mid-Value\n",
       "4      High-Value\n",
       "          ...    \n",
       "995     Low-Value\n",
       "996     Mid-Value\n",
       "997     Low-Value\n",
       "998     Low-Value\n",
       "999     Low-Value\n",
       "Name: Value Segment, Length: 946, dtype: category\n",
       "Categories (3, object): ['Low-Value' < 'Mid-Value' < 'High-Value']"
      ]
     },
     "execution_count": 34,
     "metadata": {},
     "output_type": "execute_result"
    }
   ],
   "source": [
    "rfm['Value Segment']"
   ]
  },
  {
   "cell_type": "markdown",
   "id": "a37933b9",
   "metadata": {},
   "source": [
    " we created RFM segments based on the scores. We divided RFM scores into three segments, namely “Low-Value”, “Mid-Value”, and “High-Value”. Segmentation is done using the pd.qcut() function, which evenly distributes scores between segments."
   ]
  },
  {
   "cell_type": "code",
   "execution_count": 35,
   "id": "b42fba2d",
   "metadata": {},
   "outputs": [
    {
     "data": {
      "text/html": [
       "<div>\n",
       "<style scoped>\n",
       "    .dataframe tbody tr th:only-of-type {\n",
       "        vertical-align: middle;\n",
       "    }\n",
       "\n",
       "    .dataframe tbody tr th {\n",
       "        vertical-align: top;\n",
       "    }\n",
       "\n",
       "    .dataframe thead th {\n",
       "        text-align: right;\n",
       "    }\n",
       "</style>\n",
       "<table border=\"1\" class=\"dataframe\">\n",
       "  <thead>\n",
       "    <tr style=\"text-align: right;\">\n",
       "      <th></th>\n",
       "      <th>CustomerID</th>\n",
       "      <th>PurchaseDate</th>\n",
       "      <th>TransactionAmount</th>\n",
       "      <th>ProductInformation</th>\n",
       "      <th>OrderID</th>\n",
       "      <th>Location</th>\n",
       "      <th>Recency</th>\n",
       "      <th>Frequency</th>\n",
       "      <th>Monetary</th>\n",
       "      <th>RecencyScore</th>\n",
       "      <th>FrequencyScore</th>\n",
       "      <th>MonetaryScore</th>\n",
       "      <th>RFM_Score</th>\n",
       "      <th>Value Segment</th>\n",
       "    </tr>\n",
       "  </thead>\n",
       "  <tbody>\n",
       "    <tr>\n",
       "      <th>0</th>\n",
       "      <td>8814</td>\n",
       "      <td>2023-04-11</td>\n",
       "      <td>943.31</td>\n",
       "      <td>Product C</td>\n",
       "      <td>890075</td>\n",
       "      <td>Tokyo</td>\n",
       "      <td>339 days 18:08:04.439306</td>\n",
       "      <td>1</td>\n",
       "      <td>943.31</td>\n",
       "      <td>4</td>\n",
       "      <td>0</td>\n",
       "      <td>4</td>\n",
       "      <td>8</td>\n",
       "      <td>High-Value</td>\n",
       "    </tr>\n",
       "    <tr>\n",
       "      <th>1</th>\n",
       "      <td>2188</td>\n",
       "      <td>2023-04-11</td>\n",
       "      <td>463.70</td>\n",
       "      <td>Product A</td>\n",
       "      <td>176819</td>\n",
       "      <td>London</td>\n",
       "      <td>339 days 18:08:04.439306</td>\n",
       "      <td>1</td>\n",
       "      <td>463.70</td>\n",
       "      <td>4</td>\n",
       "      <td>0</td>\n",
       "      <td>2</td>\n",
       "      <td>6</td>\n",
       "      <td>High-Value</td>\n",
       "    </tr>\n",
       "    <tr>\n",
       "      <th>2</th>\n",
       "      <td>4608</td>\n",
       "      <td>2023-04-11</td>\n",
       "      <td>80.28</td>\n",
       "      <td>Product A</td>\n",
       "      <td>340062</td>\n",
       "      <td>New York</td>\n",
       "      <td>339 days 18:08:04.439306</td>\n",
       "      <td>1</td>\n",
       "      <td>80.28</td>\n",
       "      <td>4</td>\n",
       "      <td>0</td>\n",
       "      <td>0</td>\n",
       "      <td>4</td>\n",
       "      <td>Mid-Value</td>\n",
       "    </tr>\n",
       "    <tr>\n",
       "      <th>3</th>\n",
       "      <td>2559</td>\n",
       "      <td>2023-04-11</td>\n",
       "      <td>221.29</td>\n",
       "      <td>Product A</td>\n",
       "      <td>239145</td>\n",
       "      <td>London</td>\n",
       "      <td>339 days 18:08:04.439306</td>\n",
       "      <td>1</td>\n",
       "      <td>221.29</td>\n",
       "      <td>4</td>\n",
       "      <td>0</td>\n",
       "      <td>1</td>\n",
       "      <td>5</td>\n",
       "      <td>Mid-Value</td>\n",
       "    </tr>\n",
       "    <tr>\n",
       "      <th>4</th>\n",
       "      <td>9482</td>\n",
       "      <td>2023-04-11</td>\n",
       "      <td>739.56</td>\n",
       "      <td>Product A</td>\n",
       "      <td>194545</td>\n",
       "      <td>Paris</td>\n",
       "      <td>339 days 18:08:04.439306</td>\n",
       "      <td>1</td>\n",
       "      <td>739.56</td>\n",
       "      <td>4</td>\n",
       "      <td>0</td>\n",
       "      <td>3</td>\n",
       "      <td>7</td>\n",
       "      <td>High-Value</td>\n",
       "    </tr>\n",
       "  </tbody>\n",
       "</table>\n",
       "</div>"
      ],
      "text/plain": [
       "   CustomerID PurchaseDate  TransactionAmount ProductInformation  OrderID  \\\n",
       "0        8814   2023-04-11             943.31          Product C   890075   \n",
       "1        2188   2023-04-11             463.70          Product A   176819   \n",
       "2        4608   2023-04-11              80.28          Product A   340062   \n",
       "3        2559   2023-04-11             221.29          Product A   239145   \n",
       "4        9482   2023-04-11             739.56          Product A   194545   \n",
       "\n",
       "   Location                  Recency  Frequency  Monetary  RecencyScore  \\\n",
       "0     Tokyo 339 days 18:08:04.439306          1    943.31             4   \n",
       "1    London 339 days 18:08:04.439306          1    463.70             4   \n",
       "2  New York 339 days 18:08:04.439306          1     80.28             4   \n",
       "3    London 339 days 18:08:04.439306          1    221.29             4   \n",
       "4     Paris 339 days 18:08:04.439306          1    739.56             4   \n",
       "\n",
       "   FrequencyScore  MonetaryScore  RFM_Score Value Segment  \n",
       "0               0              4          8    High-Value  \n",
       "1               0              2          6    High-Value  \n",
       "2               0              0          4     Mid-Value  \n",
       "3               0              1          5     Mid-Value  \n",
       "4               0              3          7    High-Value  "
      ]
     },
     "execution_count": 35,
     "metadata": {},
     "output_type": "execute_result"
    }
   ],
   "source": [
    "rfm.head()"
   ]
  },
  {
   "cell_type": "markdown",
   "id": "8ea61174",
   "metadata": {},
   "source": [
    "### segment distribution"
   ]
  },
  {
   "cell_type": "code",
   "execution_count": 37,
   "id": "1209934a",
   "metadata": {},
   "outputs": [
    {
     "data": {
      "image/png": "[encoded data removed]",
      "text/plain": [
       "<Figure size 800x600 with 1 Axes>"
      ]
     },
     "metadata": {},
     "output_type": "display_data"
    }
   ],
   "source": [
    "import matplotlib.pyplot as plt\n",
    "\n",
    "# Count the number of customers in each value segment\n",
    "segment_distribution = rfm['Value Segment'].value_counts()\n",
    "\n",
    "# Plot the segment distribution\n",
    "plt.figure(figsize=(8, 6))\n",
    "segment_distribution.plot(kind='bar', color='skyblue', edgecolor='black')\n",
    "\n",
    "# Add labels and title\n",
    "plt.xlabel('Value Segment')\n",
    "plt.ylabel('Number of Customers')\n",
    "plt.title('Segment Distribution')\n",
    "\n",
    "# Show the plot\n",
    "plt.show()"
   ]
  },
  {
   "cell_type": "markdown",
   "id": "73e892ff",
   "metadata": {},
   "source": [
    "we can see in this graph Low value segment has more number of customers"
   ]
  },
  {
   "cell_type": "markdown",
   "id": "55b9987c",
   "metadata": {},
   "source": [
    "### RFM Customer Segments"
   ]
  },
  {
   "cell_type": "code",
   "execution_count": 48,
   "id": "2516a7eb",
   "metadata": {},
   "outputs": [
    {
     "name": "stdout",
     "output_type": "stream",
     "text": [
      "     CustomerID RFM Customer Segments\n",
      "0          8814   Potential Loyalists\n",
      "1          2188   Potential Loyalists\n",
      "2          4608            Can't Lose\n",
      "3          2559     At Risk Customers\n",
      "4          9482   Potential Loyalists\n",
      "..          ...                   ...\n",
      "995        2970                  Lost\n",
      "996        6669            Can't Lose\n",
      "997        8836                      \n",
      "998        1440                  Lost\n",
      "999        4759                  Lost\n",
      "\n",
      "[946 rows x 2 columns]\n"
     ]
    },
    {
     "name": "stderr",
     "output_type": "stream",
     "text": [
      "C:\\Users\\femif\\AppData\\Local\\Temp\\ipykernel_1296\\3746564309.py:1: SettingWithCopyWarning: \n",
      "A value is trying to be set on a copy of a slice from a DataFrame.\n",
      "Try using .loc[row_indexer,col_indexer] = value instead\n",
      "\n",
      "See the caveats in the documentation: https://pandas.pydata.org/pandas-docs/stable/user_guide/indexing.html#returning-a-view-versus-a-copy\n",
      "  rfm['RFM Customer Segments'] = ''\n"
     ]
    }
   ],
   "source": [
    "rfm['RFM Customer Segments'] = ''\n",
    "\n",
    "# Assign RFM segments based on the RFM score\n",
    "rfm.loc[rfm['RFM_Score'] >= 9, 'RFM Customer Segments'] = 'Champions'\n",
    "rfm.loc[(rfm['RFM_Score'] >= 6) & (rfm['RFM_Score'] < 9), 'RFM Customer Segments'] = 'Potential Loyalists'\n",
    "rfm.loc[(rfm['RFM_Score'] >= 5) & (rfm['RFM_Score'] < 6), 'RFM Customer Segments'] = 'At Risk Customers'\n",
    "rfm.loc[(rfm['RFM_Score'] >= 4) & (rfm['RFM_Score'] < 5), 'RFM Customer Segments'] = \"Can't Lose\"\n",
    "rfm.loc[(rfm['RFM_Score'] >= 3) & (rfm['RFM_Score'] < 4), 'RFM Customer Segments'] = \"Lost\"\n",
    "\n",
    "# Print the updated data with RFM segments\n",
    "print(rfm[['CustomerID', 'RFM Customer Segments']])"
   ]
  },
  {
   "cell_type": "markdown",
   "id": "1eb10d59",
   "metadata": {},
   "source": [
    "High-Value Customers: Customers with high recency, frequency, and monetary values. These are your most valuable customers who have made recent purchases frequently and spent a significant amount of money.\n",
    "\n",
    "Mid-Value Customers: Customers with moderate recency, frequency, and monetary values. They may not be as active as high-value customers but still contribute significantly to your revenue.\n",
    "\n",
    "Low-Value Customers: Customers with low recency, frequency, and monetary values. These customers may have made only a few purchases, spent less money, or not purchased recently.\n",
    "\n",
    "Potential Loyalists: Customers with high frequency but low recency and monetary values. These customers may have made frequent purchases in the past but haven't purchased recently. They have the potential to become high-value customers if re-engaged effectively.\n",
    "\n",
    "At-Risk Customers: Customers with high recency but low frequency and monetary values. These customers may have made recent purchases but not frequently or spent much. They may be losing interest in your products or services and need attention to prevent churn.\n",
    "\n",
    "Lost Customers: Customers with low recency, frequency, and monetary values. These customers haven't made purchases recently and may have been inactive for a long time. They may require reactivation efforts to win them back.\n",
    "\n"
   ]
  },
  {
   "cell_type": "markdown",
   "id": "1ab5e46e",
   "metadata": {},
   "source": [
    "# RFM Analysis"
   ]
  },
  {
   "cell_type": "code",
   "execution_count": 43,
   "id": "d253769b",
   "metadata": {},
   "outputs": [
    {
     "data": {
      "image/png": "[encoded data removed]",
      "text/plain": [
       "<Figure size 1000x600 with 1 Axes>"
      ]
     },
     "metadata": {},
     "output_type": "display_data"
    }
   ],
   "source": [
    "segment_distribution = rfm.groupby(['Value Segment', 'Segment']).size().unstack()\n",
    "\n",
    "# Plot the grouped bar plot\n",
    "segment_distribution.plot(kind='bar', figsize=(10, 6))\n",
    "\n",
    "# Add labels and title\n",
    "plt.xlabel('Value Segment')\n",
    "plt.ylabel('Number of Customers')\n",
    "plt.title('Distribution of Customers Across RFM Segments within Each Value Segment')\n",
    "\n",
    "# Show the plot\n",
    "plt.legend(title='RFM Segment', bbox_to_anchor=(1.05, 1), loc='upper left')\n",
    "plt.xticks(rotation=45)\n",
    "plt.tight_layout()\n",
    "plt.show()"
   ]
  },
  {
   "cell_type": "markdown",
   "id": "7393a07c",
   "metadata": {},
   "source": [
    "### Analyze the correlation of the recency, frequency, and monetary scores"
   ]
  },
  {
   "cell_type": "code",
   "execution_count": 54,
   "id": "b7fffbb5",
   "metadata": {},
   "outputs": [
    {
     "name": "stdout",
     "output_type": "stream",
     "text": [
      "Correlation Matrix:\n",
      "                RecencyScore  FrequencyScore  MonetaryScore\n",
      "RecencyScore        1.000000             NaN      -0.025873\n",
      "FrequencyScore           NaN             NaN            NaN\n",
      "MonetaryScore      -0.025873             NaN       1.000000\n"
     ]
    },
    {
     "data": {
      "image/png": "[encoded data removed]",
      "text/plain": [
       "<Figure size 800x600 with 2 Axes>"
      ]
     },
     "metadata": {},
     "output_type": "display_data"
    }
   ],
   "source": [
    "rfm_corr = rfm[['RecencyScore', 'FrequencyScore', 'MonetaryScore']].corr()\n",
    "\n",
    "# Display the correlation matrix\n",
    "print(\"Correlation Matrix:\")\n",
    "print(rfm_corr)\n",
    "\n",
    "# Visualize the correlation matrix as a heatmap\n",
    "import seaborn as sns\n",
    "plt.figure(figsize=(8, 6))\n",
    "sns.heatmap(rfm_corr, annot=True, cmap='coolwarm', fmt=\".2f\", linewidths=0.5)\n",
    "plt.title('Correlation Heatmap of RFM Scores')\n",
    "plt.show()"
   ]
  },
  {
   "cell_type": "markdown",
   "id": "7d6c0f39",
   "metadata": {},
   "source": [
    "This analysis will help you understand how recency, frequency, and monetary scores are related to each other. Positive correlations indicate that higher scores in one variable tend to be associated with higher scores in another variable, while negative correlations indicate an inverse relationship. "
   ]
  }
 ],
 "metadata": {
  "kernelspec": {
   "display_name": "Python 3 (ipykernel)",
   "language": "python",
   "name": "python3"
  },
  "language_info": {
   "codemirror_mode": {
    "name": "ipython",
    "version": 3
   },
   "file_extension": ".py",
   "mimetype": "text/x-python",
   "name": "python",
   "nbconvert_exporter": "python",
   "pygments_lexer": "ipython3",
   "version": "3.11.4"
  }
 },
 "nbformat": 4,
 "nbformat_minor": 5
}
